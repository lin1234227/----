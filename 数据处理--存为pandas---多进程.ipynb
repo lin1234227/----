{
 "cells": [
  {
   "cell_type": "code",
   "execution_count": 1,
   "metadata": {},
   "outputs": [],
   "source": [
    "from pyforest import *\n",
    "import cv2\n",
    "from PIL import Image\n",
    "import math\n",
    "from multiprocessing import Process, Lock\n",
    "import time\n"
   ]
  },
  {
   "cell_type": "code",
   "execution_count": 2,
   "metadata": {},
   "outputs": [],
   "source": [
    "lock = Lock() "
   ]
  },
  {
   "cell_type": "code",
   "execution_count": 3,
   "metadata": {},
   "outputs": [],
   "source": [
    "def rotate_bound(array, angle):\n",
    "    # 获取图像的尺寸\n",
    "    # 旋转中心\n",
    "    (h, w) = array.shape[:2]\n",
    "    (cx, cy) = (w / 2, h / 2)\n",
    "    # # 设置旋转矩阵\n",
    "    M = cv2.getRotationMatrix2D((cx, cy), angle, 1.0)\n",
    "    return cv2.warpAffine(array, M, (w, h))"
   ]
  },
  {
   "cell_type": "code",
   "execution_count": 4,
   "metadata": {},
   "outputs": [],
   "source": [
    "def trans_matrix(tmppath):\n",
    "    with open(tmppath) as f:\n",
    "        t = f.readlines()\n",
    "        temp = t[0].strip().split(' ')\n",
    "        array = []\n",
    "        ans = []\n",
    "        for index,val in enumerate(temp):#320*240\n",
    "            ans.append(float(val))\n",
    "            if (index+1)%320==0:\n",
    "                array.append(ans)\n",
    "                ans = []\n",
    "    return np.array(array)"
   ]
  },
  {
   "cell_type": "code",
   "execution_count": 5,
   "metadata": {},
   "outputs": [],
   "source": [
    "def get_txt_data(txtpath):\n",
    "    dict1 = {}\n",
    "    filename = re.sub('.txt','',txtpath.split('/')[-1])\n",
    "    with open(txtpath) as f:\n",
    "        t = f.read().split(' ')\n",
    "        dict1['filename'] = filename\n",
    "        dict1['a4'] = float(t[2].split(':')[1])\n",
    "        dict1['height'] = float(t[5].split(':')[1])\n",
    "        dict1['meantmp'] = float(t[6].split(':')[1])\n",
    "        dict1['maxtmp'] = float(t[7].split(':')[1])\n",
    "        dict1['hot_spot_nums'] = int(t[8].split(':')[1])\n",
    "        dict1['tmp_integral'] = int(t[9].split(':')[1])\n",
    "    return dict1"
   ]
  },
  {
   "cell_type": "code",
   "execution_count": 6,
   "metadata": {},
   "outputs": [],
   "source": [
    "def fill_NA(x,y,r,array,value):\n",
    "    height = array.shape[0]\n",
    "    width = array.shape[1]\n",
    "    for i in range(width):\n",
    "        for j in range(height):\n",
    "            if np.sqrt((i - x) ** 2 + (j - y) ** 2) >r:\n",
    "                array[j][i] = value\n",
    "    return array"
   ]
  },
  {
   "cell_type": "code",
   "execution_count": 7,
   "metadata": {},
   "outputs": [],
   "source": [
    "def split_data(array,r,c):\n",
    "    #以分4份为例\n",
    "    dict1 = {}\n",
    "    rows = array.shape[0] #height 高度\n",
    "    cols = array.shape[1] #width 宽度\n",
    "    step_r = rows//r\n",
    "    step_c = cols//c\n",
    "    for i in range(r):\n",
    "        for j in range(c):\n",
    "            dict1[str(i)+'_'+str(j)]=array[i*step_r:(i+1)*step_r,j*step_c:(j+1)*step_c].mean()\n",
    "    return dict1"
   ]
  },
  {
   "cell_type": "code",
   "execution_count": 8,
   "metadata": {},
   "outputs": [],
   "source": [
    "# E:\\data\\1207\\4\n",
    "def get_temperature(filepath):\n",
    "    df = pd.DataFrame()\n",
    "    global lock\n",
    "\n",
    "    tmppath1 = filepath + '/tmp'\n",
    "    txtpath = filepath+'/txt'\n",
    "    for index,filename in enumerate(os.listdir(tmppath1)):\n",
    "#         if index==0:\n",
    "        print('finished {}'.format(index))\n",
    "        M = trans_matrix(tmppath1+'/'+filename)\n",
    "        dict1 = get_txt_data(txtpath+'/'+re.sub('.tmp','.txt',filename))\n",
    "        M = cv2.copyMakeBorder(M[:185,10:310], 135, 0, 0, 0,cv2.BORDER_CONSTANT,value=dict1['meantmp'])#补充上边界\n",
    "        M = fill_NA(148, 167, 130,M,0)\n",
    "        M = M[167-130:167+130,148-130:148+130]\n",
    "\n",
    "        angle = dict1['a4']*180/math.pi\n",
    "        M = rotate_bound(M,angle)\n",
    "        dict2 = split_data(M,10,10)\n",
    "        dict_merge = dict1.copy()\n",
    "        dict_merge.update(dict2)\n",
    "        df = df.append(dict_merge,ignore_index=True)\n",
    "    lock.acquire()\n",
    "    print('-------------'+path+'/'+i+'/'+j+'在写入............................')\n",
    "\n",
    "    df.to_csv('my_data.csv', mode='a', header=False)\n",
    "    print('-------------'+path+'/'+i+'/'+j+'写入完成!!!!!!!!!!!!!!!!!!!!!!!!!!')\n",
    "\n",
    "    lock.release()\n",
    "        \n",
    "    return None\n",
    "\n",
    "\n",
    "        \n",
    "\n",
    "    "
   ]
  },
  {
   "cell_type": "code",
   "execution_count": 9,
   "metadata": {
    "scrolled": true
   },
   "outputs": [],
   "source": [
    "if __name__ == '__main__':\n",
    "    processes = []\n",
    "    path = 'E:/data'\n",
    "    for i in os.listdir(path):\n",
    "        for j in os.listdir(path+'/'+i):\n",
    "            p = Process(target=get_temperature, args=(path+'/'+i+'/'+j,))\n",
    "            p.start()\n",
    "            processes.append(p)\n",
    "#             df = get_temperature(path+'/'+i+'/'+j)\n",
    "#             print('-------------'+path+'/'+i+'/'+j+'--------------------------')\n",
    "    for t in processes:\n",
    "        t.join()\n"
   ]
  },
  {
   "cell_type": "code",
   "execution_count": null,
   "metadata": {},
   "outputs": [],
   "source": []
  },
  {
   "cell_type": "code",
   "execution_count": null,
   "metadata": {},
   "outputs": [],
   "source": []
  }
 ],
 "metadata": {
  "kernelspec": {
   "display_name": "Python 3",
   "language": "python",
   "name": "python3"
  },
  "language_info": {
   "codemirror_mode": {
    "name": "ipython",
    "version": 3
   },
   "file_extension": ".py",
   "mimetype": "text/x-python",
   "name": "python",
   "nbconvert_exporter": "python",
   "pygments_lexer": "ipython3",
   "version": "3.6.5"
  }
 },
 "nbformat": 4,
 "nbformat_minor": 2
}
